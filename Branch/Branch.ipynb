{
 "cells": [
  {
   "cell_type": "markdown",
   "metadata": {},
   "source": [
    "# 分支重點"
   ]
  },
  {
   "cell_type": "markdown",
   "metadata": {},
   "source": [
    "### 分支定義：要執行哪一段程式碼的結構\n",
    "### 簡單分支：決定一段程式碼的有無\n",
    "### 雙重分支：決定兩段程式碼要執行哪一邊\n",
    "### 巢狀分支：決定多段程式碼要執行哪一邊\n"
   ]
  },
  {
   "cell_type": "code",
   "execution_count": null,
   "metadata": {},
   "outputs": [],
   "source": [
    "if 判斷式：\n",
    "    程式碼1\n",
    "elif 判斷式：\n",
    "    程式碼2¶\n",
    "else\n",
    "    程式碼3"
   ]
  },
  {
   "cell_type": "markdown",
   "metadata": {},
   "source": [
    "# Python簡單分支\n",
    "### 符合條件就做，不符合條件就不做。"
   ]
  },
  {
   "cell_type": "markdown",
   "metadata": {},
   "source": [
    "### 課程範例"
   ]
  },
  {
   "cell_type": "code",
   "execution_count": 3,
   "metadata": {},
   "outputs": [
    {
     "name": "stdout",
     "output_type": "stream",
     "text": [
      "請輸入一個數字：-6\n",
      "|X| = 6\n"
     ]
    }
   ],
   "source": [
    "#絕對值計算\n",
    "x = eval(input(\"請輸入一個數字：\"))\n",
    "\n",
    "if x < 0:\n",
    "    x = -x\n",
    "\n",
    "print(\"|X| = {}\".format(x))"
   ]
  },
  {
   "cell_type": "markdown",
   "metadata": {},
   "source": [
    "### 練習一\n",
    "請撰寫一個程式，詢問顧客他的鹽酥雞要不要加辣？如果要（輸入 “y”），那就印出「好的！幫您加辣！」如果不要（輸入 “n”），那就什麼事情都不用做。不論如何，最後請印出「謝謝惠顧！一共 80 元！」這個字樣。提示：請用 input 指令的提示文字，誘導使用者輸入 “y” 或 “n” 這兩個字。如：「請問要加辣嗎（y/n）？」。如果判斷使用者輸入的是 “y”，則印出「好的！幫您加辣！」，否則什麼事情都不用做。\n"
   ]
  },
  {
   "cell_type": "code",
   "execution_count": 13,
   "metadata": {},
   "outputs": [
    {
     "name": "stdout",
     "output_type": "stream",
     "text": [
      "請問您的鹹酥雞要不要加辣？(y/n)y\n",
      "好的！幫您加辣！\n",
      "請問要加大蒜嗎？(y/n)y\n",
      "好的！幫您加大蒜！\n",
      "謝謝惠顧！一共80元！\n"
     ]
    }
   ],
   "source": [
    "ans1 = input(\"請問您的鹹酥雞要不要加辣？(y/n)\")\n",
    "\n",
    "if ans1 == 'y':\n",
    "    print(\"好的！幫您加辣！\")\n",
    "\n",
    "    \n",
    "ans2 = input(\"請問要加大蒜嗎？(y/n)\")\n",
    "\n",
    "if ans2 == 'y':\n",
    "    print(\"好的！幫您加大蒜！\")\n",
    "    \n",
    "print(\"謝謝惠顧！一共80元！\")"
   ]
  },
  {
   "cell_type": "markdown",
   "metadata": {},
   "source": [
    "# Python 雙重分支"
   ]
  },
  {
   "cell_type": "markdown",
   "metadata": {},
   "source": [
    "### 課程範例"
   ]
  },
  {
   "cell_type": "code",
   "execution_count": 7,
   "metadata": {},
   "outputs": [
    {
     "name": "stdout",
     "output_type": "stream",
     "text": [
      "請輸入您的分數：3\n",
      "您不及格\n"
     ]
    }
   ],
   "source": [
    "#輸入分數，印出及格或不及格。\n",
    "score = eval(input(\"請輸入您的分數：\"))\n",
    "\n",
    "if score >= 60:\n",
    "    print(\"您及格了\")\n",
    "else:\n",
    "    print(\"您不及格\")\n",
    "\n"
   ]
  },
  {
   "cell_type": "markdown",
   "metadata": {},
   "source": [
    "### 練習二\n",
    "請撰寫一個程式，讓使用者輸入一個西元年份。如果該年份是閏年，則印出「閏年」。如果該年份是平年，則印出「平年」。提示：請使用者輸入一個年份，假設該年份儲存於變數 year 中。判斷 year 是否符合下列條件，若是，印出「閏年」。否則印出「平年」：(year%400 == 0) or ((year%4 == 0) and (year%100 != 0))判斷式解說：year%400 == 0：如果年份是 400 的倍數，不用懷疑，一定是閏年。(year%4 == 0) and (year%100 !=0)：如果年份是 4 的倍數，它還得不是 100 的倍數，才是閏年。上述兩條件只要成立一個，就是閏年。\n",
    "\n"
   ]
  },
  {
   "cell_type": "code",
   "execution_count": 16,
   "metadata": {},
   "outputs": [
    {
     "name": "stdout",
     "output_type": "stream",
     "text": [
      "請輸入您的年份：1999\n",
      "西元1999年是平年\n"
     ]
    }
   ],
   "source": [
    "year = eval(input(\"請輸入您的年份：\"))\n",
    "if (year%4 == 0 and year%100 != 0) or (year%400 == 0 and year%3200 != 0):\n",
    "    print(\"西元{}年是閨年\".format(year))\n",
    "else:\n",
    "    print(\"西元{}年是平年\".format(year))\n"
   ]
  },
  {
   "cell_type": "markdown",
   "metadata": {},
   "source": [
    "# Python 巢狀分支\n",
    "一定有程式碼要做，且有三種選擇以上。"
   ]
  },
  {
   "cell_type": "markdown",
   "metadata": {},
   "source": [
    "### 課程範例"
   ]
  },
  {
   "cell_type": "code",
   "execution_count": 25,
   "metadata": {},
   "outputs": [
    {
     "name": "stdout",
     "output_type": "stream",
     "text": [
      "請輸入您的分數：62\n",
      "乙等\n"
     ]
    }
   ],
   "source": [
    "# 輸入考試分數，印出甲、乙、丙等。\n",
    "score = eval(input(\"請輸入您的分數：\"))\n",
    "\n",
    "if score >= 80:\n",
    "    print(\"甲等\")\n",
    "elif score >= 60:\n",
    "    print(\"乙等\")\n",
    "else:\n",
    "    print(\"丙等\")"
   ]
  },
  {
   "cell_type": "markdown",
   "metadata": {},
   "source": [
    "### 練習三\n",
    "請撰寫一個程式，讓使用者輸入身高（cm）、體重（Kg）。計算出 BMI 之後，告知使用者「過輕」、「正常」、或「過胖」。提示：前半部的程式，可以直接複製您在「03 運算子練習：計算身體質量指數（BMI）」這個作業撰寫的內容，取得 BMI 的值。BMI 公式如下所示。請注意，要把身高的單位公分，除以 100 後，轉換成公尺再計算：BMI = 體重（kg）÷ （身高(m) x 身高(m)）根據台灣地區衛生單位所提供的資料，BMI 的判斷標準如下所示：請用巢狀分支，依序判斷您計算出來的 BMI 是否小於 18.5、是否小於 25、或以上皆非。繳交前，請設計三個身高／體重值，讓你的程式能顯示「過輕」、「正常」、或「過重」三種值。如：身高 170 cm，體重 95 kg：應該印出「過重」。身高 170 cm，體重 65 kg：應該印出「正常」。身高 170 cm，體重 30 kg：應該印出「過輕」。\n"
   ]
  },
  {
   "cell_type": "code",
   "execution_count": 28,
   "metadata": {},
   "outputs": [
    {
     "name": "stdout",
     "output_type": "stream",
     "text": [
      "請輸入您的身高(cm)：180\n",
      "請輸入您的體重(kg)：75\n",
      "您的BMI = 23.15,正常\n"
     ]
    }
   ],
   "source": [
    "h = eval(input(\"請輸入您的身高(cm)：\"))\n",
    "w = eval(input(\"請輸入您的體重(kg)：\"))\n",
    "bmi = w/(h/100)**2\n",
    "\n",
    "if bmi >25:\n",
    "    print(\"您的BMI = {:.2f},過重\".format(bmi))\n",
    "elif bmi >= 18.5:\n",
    "    print(\"您的BMI = {:.2f},正常\".format(bmi))\n",
    "else:\n",
    "    print(\"您的BMI = {:.2f},過輕\".format(bmi))\n",
    "\n",
    "\n",
    "\n"
   ]
  },
  {
   "cell_type": "code",
   "execution_count": null,
   "metadata": {},
   "outputs": [],
   "source": []
  }
 ],
 "metadata": {
  "kernelspec": {
   "display_name": "Python 3",
   "language": "python",
   "name": "python3"
  },
  "language_info": {
   "codemirror_mode": {
    "name": "ipython",
    "version": 3
   },
   "file_extension": ".py",
   "mimetype": "text/x-python",
   "name": "python",
   "nbconvert_exporter": "python",
   "pygments_lexer": "ipython3",
   "version": "3.6.8"
  }
 },
 "nbformat": 4,
 "nbformat_minor": 2
}
