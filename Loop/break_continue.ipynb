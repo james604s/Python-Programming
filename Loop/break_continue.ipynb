{
 "cells": [
  {
   "cell_type": "markdown",
   "metadata": {},
   "source": [
    "# Break&Continue"
   ]
  },
  {
   "cell_type": "markdown",
   "metadata": {},
   "source": [
    "## break\n",
    "讓迴圈從此中止的指令。"
   ]
  },
  {
   "cell_type": "markdown",
   "metadata": {},
   "source": [
    "### 範例一"
   ]
  },
  {
   "cell_type": "code",
   "execution_count": 1,
   "metadata": {},
   "outputs": [
    {
     "name": "stdout",
     "output_type": "stream",
     "text": [
      "i = 1\n",
      "i = 2\n",
      "i = 3\n",
      "i = 4\n",
      "i = 5\n",
      "i = 6\n"
     ]
    }
   ],
   "source": [
    "for i in range(1, 11):\n",
    "    if i == 7:\n",
    "        break\n",
    "    print(\"i = {}\".format(i))\n"
   ]
  },
  {
   "cell_type": "markdown",
   "metadata": {},
   "source": [
    "### 範例二：輸入帳號密碼"
   ]
  },
  {
   "cell_type": "code",
   "execution_count": 7,
   "metadata": {},
   "outputs": [
    {
     "name": "stdout",
     "output_type": "stream",
     "text": [
      "請輸入帳號abc\n",
      "請輸入密碼111\n",
      "帳號密碼不符！請重新輸入！\n",
      "請輸入帳號abc\n",
      "請輸入密碼123\n",
      "歡迎光臨!\n"
     ]
    }
   ],
   "source": [
    "\n",
    "while True:\n",
    "    acc = input(\"請輸入帳號\")\n",
    "    pwd = input(\"請輸入密碼\")\n",
    "    if (acc != 'abc') or (pwd != '123'):\n",
    "        print('帳號密碼不符！請重新輸入！')\n",
    "    else:\n",
    "        print('歡迎光臨!')\n",
    "        break"
   ]
  },
  {
   "cell_type": "markdown",
   "metadata": {},
   "source": [
    "## continue\n",
    "讓迴圈跳過這一圈不做，但後面會繼續做。"
   ]
  },
  {
   "cell_type": "markdown",
   "metadata": {},
   "source": [
    "### 範例一"
   ]
  },
  {
   "cell_type": "code",
   "execution_count": 8,
   "metadata": {},
   "outputs": [
    {
     "name": "stdout",
     "output_type": "stream",
     "text": [
      "i = 1\n",
      "i = 2\n",
      "i = 3\n",
      "i = 4\n",
      "i = 5\n",
      "i = 6\n",
      "i = 8\n",
      "i = 9\n",
      "i = 10\n"
     ]
    }
   ],
   "source": [
    "for i in range(1, 11):\n",
    "    if i == 7:\n",
    "        continue\n",
    "    print(\"i = {}\".format(i))"
   ]
  },
  {
   "cell_type": "markdown",
   "metadata": {},
   "source": [
    "### 範例二：列出所有大樓樓層名稱，避開4樓。"
   ]
  },
  {
   "cell_type": "code",
   "execution_count": 9,
   "metadata": {},
   "outputs": [
    {
     "name": "stdout",
     "output_type": "stream",
     "text": [
      "請輸入樓層名稱：5\n",
      "本大樓樓層列表：\n",
      "1樓\n",
      "2樓\n",
      "3樓\n",
      "5樓\n",
      "6樓\n"
     ]
    }
   ],
   "source": [
    "f = eval(input(\"請輸入樓層名稱：\"))\n",
    "print(\"本大樓樓層列表：\")\n",
    "if f > 3\n",
    "    show = f + 1\n",
    "else:\n",
    "    show = f\n",
    "    \n",
    "for i in range(1, show+1):\n",
    "    if i == 4:\n",
    "        continue\n",
    "    print(\"{}樓\".format(i))"
   ]
  },
  {
   "cell_type": "markdown",
   "metadata": {},
   "source": [
    "### 練習一：筊杯程式\n",
    "在華人的習慣裡，求神問卜時，會拿兩個紅色半月形的「筊杯」，合十後往地上丟擲，以兩個筊杯正反面的組合，藉以得知神明的指示。\n",
    "\n"
   ]
  },
  {
   "cell_type": "code",
   "execution_count": 12,
   "metadata": {},
   "outputs": [
    {
     "name": "stdout",
     "output_type": "stream",
     "text": [
      "陰筊(0, 0)\n",
      "聖筊(1, 0)\n",
      "你擲了2次才擲到聖筊\n"
     ]
    }
   ],
   "source": [
    "import random\n",
    "\n",
    "count = 0\n",
    "while True:\n",
    "    block1 = random.randint(0, 1)\n",
    "    block2 = random.randint(0, 1)\n",
    "    \n",
    "    if block1 == block2:\n",
    "        if block1 == 0:\n",
    "            print(\"陰筊(0, 0)\")\n",
    "        else:\n",
    "            print(\"聖筊(1, 1)\")\n",
    "        count += 1\n",
    "        \n",
    "    else:\n",
    "        print(\"聖筊({}, {})\".format(block1, block2))\n",
    "        print(\"你擲了{}次才擲到聖筊\".format(count+1))\n",
    "        break"
   ]
  },
  {
   "cell_type": "code",
   "execution_count": null,
   "metadata": {},
   "outputs": [],
   "source": []
  }
 ],
 "metadata": {
  "kernelspec": {
   "display_name": "Python 3",
   "language": "python",
   "name": "python3"
  },
  "language_info": {
   "codemirror_mode": {
    "name": "ipython",
    "version": 3
   },
   "file_extension": ".py",
   "mimetype": "text/x-python",
   "name": "python",
   "nbconvert_exporter": "python",
   "pygments_lexer": "ipython3",
   "version": "3.6.8"
  }
 },
 "nbformat": 4,
 "nbformat_minor": 2
}
