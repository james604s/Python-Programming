{
 "cells": [
  {
   "cell_type": "markdown",
   "metadata": {},
   "source": [
    "# 迴圈Looping\n",
    "讓一段程式碼，重複執行數次的結構。\n"
   ]
  },
  {
   "cell_type": "markdown",
   "metadata": {},
   "source": [
    "# 條件迴圈\n",
    "只要符合條件就一直做\n"
   ]
  },
  {
   "cell_type": "code",
   "execution_count": null,
   "metadata": {},
   "outputs": [],
   "source": [
    "while <= 10:\n",
    "    指令1\n",
    "    指令2\n",
    "    ...\n",
    "    \n",
    "條件初始值\n",
    "while 條件:\n",
    "    要被重複執行的指令\n",
    "    ...\n",
    "    條件更新值設定\n",
    "else:\n",
    "    迴圈跳出後的收尾指令(總結結果、顯示error、記憶體檔案回收)"
   ]
  },
  {
   "cell_type": "markdown",
   "metadata": {},
   "source": [
    "### 範例一：while迴圈\n",
    "只要條件符合就繼續做，不知道迴圈轉幾圈時使用。"
   ]
  },
  {
   "cell_type": "code",
   "execution_count": 1,
   "metadata": {},
   "outputs": [
    {
     "name": "stdout",
     "output_type": "stream",
     "text": [
      "-------------\n",
      "-------------\n",
      "-------------\n",
      "-------------\n",
      "-------------\n",
      "-------------\n",
      "-------------\n",
      "-------------\n",
      "-------------\n",
      "-------------\n"
     ]
    }
   ],
   "source": [
    "x = 1\n",
    "while x <= 10:\n",
    "    print(\"-------------\")\n",
    "    x += 1 #遞加"
   ]
  },
  {
   "cell_type": "markdown",
   "metadata": {},
   "source": [
    "### 範例二：擲骰子\n",
    "寫一個程式，擲一個骰子，直到出現6時才停。\n"
   ]
  },
  {
   "cell_type": "code",
   "execution_count": 12,
   "metadata": {},
   "outputs": [
    {
     "name": "stdout",
     "output_type": "stream",
     "text": [
      "2\n",
      "2\n",
      "5\n",
      "6\n"
     ]
    }
   ],
   "source": [
    "#random.randint(1, 6) 亂數產生\n",
    "import random\n",
    "\n",
    "x = random.randint(1, 6)\n",
    "while x != 6:\n",
    "    print(x)\n",
    "    x = random.randint(1, 6) #尚未擲到6就一直做\n",
    "\n",
    "else:\n",
    "    print(x) #擲到6並印出來"
   ]
  },
  {
   "cell_type": "markdown",
   "metadata": {},
   "source": [
    "### 範例三：猜數字\n",
    "##### 先讓電腦產生1~10的亂數，讓使用者輸入猜測值。\n",
    "##### 如果猜太大，印出（太大了，小一點）\n",
    "##### 如果猜太小，印出（太小了，大一點）\n",
    "##### 如果猜對，印出（猜對了！）"
   ]
  },
  {
   "cell_type": "code",
   "execution_count": 14,
   "metadata": {
    "scrolled": true
   },
   "outputs": [
    {
     "name": "stdout",
     "output_type": "stream",
     "text": [
      "請猜一個數字(1~10)：1\n",
      "太小了！猜大一點！\n",
      "請猜一個數字(1~10)：6\n",
      "太小了！猜大一點！\n",
      "請猜一個數字(1~10)：5\n",
      "太小了！猜大一點！\n",
      "請猜一個數字(1~10)：8\n",
      "太小了！猜大一點！\n",
      "請猜一個數字(1~10)：9\n",
      "您猜對了！\n"
     ]
    }
   ],
   "source": [
    "import random\n",
    "\n",
    "ans = random.randint(1, 10)\n",
    "guess = eval(input(\"請猜一個數字(1~10)：\"))\n",
    "\n",
    "while guess != ans:\n",
    "    if guess < ans:\n",
    "        print(\"太小了！猜大一點！\")\n",
    "    else:\n",
    "        print(\"太大了！猜小一點！\")\n",
    "    guess = eval(input(\"請猜一個數字(1~10)：\"))\n",
    "else:\n",
    "    print(\"您猜對了！\")\n"
   ]
  },
  {
   "cell_type": "markdown",
   "metadata": {},
   "source": [
    "### 練習一\n",
    "請讓使用者輸入一個數字，比如說 10。接著請算出「10 階乘（10!）」等於多少，並把計算結果，印在螢幕上。提示：階乘的定義如下：n! = n x (n-1) x (n-2) x (n-3) … x 2 x 1。如果 n = 5，則 5! = 5 x 4 x 3 x 2 x 1 = 120。其中 0! = 1。且本題目不考慮 n < 0 的情況。製作此題目時，要去檢查：若 n > 0，就直接計算 n!若 n = 0，就直接印出答案 = 1。若 n < 0，則印出「不合法的輸入值，n 應該大於等於 0！」錯誤訊息後，結束程式。\n"
   ]
  },
  {
   "cell_type": "code",
   "execution_count": 17,
   "metadata": {},
   "outputs": [
    {
     "name": "stdout",
     "output_type": "stream",
     "text": [
      "請輸入n值，計算n階乘：10\n",
      "10! = 3,628,800\n"
     ]
    }
   ],
   "source": [
    "n = eval(input(\"請輸入n值，計算n階乘：\"))\n",
    "i = n\n",
    "\n",
    "if n > 0:\n",
    "    N = 1\n",
    "    while n >=1 :\n",
    "        N = N*n\n",
    "        n -= 1\n",
    "    else:\n",
    "        print(\"{0:d}! = {1:,d}\".format(i, N))\n",
    "elif n == 0:\n",
    "        print(\"0! = 1\")\n",
    "        \n",
    "else:\n",
    "    print(\"輸入錯誤，n值應該大於等於0。\")"
   ]
  },
  {
   "cell_type": "markdown",
   "metadata": {},
   "source": [
    "# 計次迴圈\n",
    "做指定的次數。"
   ]
  },
  {
   "cell_type": "code",
   "execution_count": null,
   "metadata": {},
   "outputs": [],
   "source": [
    "for i in range(1, 11, 1):\n",
    "    指令1\n",
    "    指令2\n",
    "    ..."
   ]
  },
  {
   "cell_type": "markdown",
   "metadata": {},
   "source": [
    "### 範例一：for 迴圈\n",
    "range(起始值, 終止值, 遞增遞減值)"
   ]
  },
  {
   "cell_type": "code",
   "execution_count": 19,
   "metadata": {},
   "outputs": [
    {
     "name": "stdout",
     "output_type": "stream",
     "text": [
      "0\n",
      "1\n",
      "2\n",
      "3\n",
      "4\n",
      "5\n",
      "6\n",
      "7\n",
      "8\n",
      "9\n",
      "10\n",
      "11\n",
      "12\n",
      "13\n",
      "14\n",
      "15\n",
      "16\n",
      "17\n",
      "18\n",
      "19\n"
     ]
    }
   ],
   "source": [
    "for i in range(20):\n",
    "    print(i)"
   ]
  },
  {
   "cell_type": "code",
   "execution_count": 20,
   "metadata": {},
   "outputs": [
    {
     "name": "stdout",
     "output_type": "stream",
     "text": [
      "10\n",
      "11\n",
      "12\n",
      "13\n",
      "14\n",
      "15\n",
      "16\n",
      "17\n",
      "18\n",
      "19\n"
     ]
    }
   ],
   "source": [
    "for i in range(10, 20):\n",
    "    print(i)"
   ]
  },
  {
   "cell_type": "code",
   "execution_count": 22,
   "metadata": {},
   "outputs": [
    {
     "name": "stdout",
     "output_type": "stream",
     "text": [
      "8\n",
      "11\n",
      "14\n",
      "17\n"
     ]
    }
   ],
   "source": [
    "for i in range(8, 20, 3):\n",
    "    print(i)"
   ]
  },
  {
   "cell_type": "code",
   "execution_count": 25,
   "metadata": {},
   "outputs": [
    {
     "name": "stdout",
     "output_type": "stream",
     "text": [
      "10\n",
      "8\n",
      "6\n",
      "4\n",
      "2\n",
      "0\n",
      "-2\n",
      "-4\n",
      "-6\n",
      "-8\n"
     ]
    }
   ],
   "source": [
    "for i in range(10, -10, -2):\n",
    "    print(i)"
   ]
  },
  {
   "cell_type": "markdown",
   "metadata": {},
   "source": [
    "### 範例二：印出十條橫線。"
   ]
  },
  {
   "cell_type": "code",
   "execution_count": 26,
   "metadata": {},
   "outputs": [
    {
     "name": "stdout",
     "output_type": "stream",
     "text": [
      "--------------\n",
      "--------------\n",
      "--------------\n",
      "--------------\n",
      "--------------\n",
      "--------------\n",
      "--------------\n",
      "--------------\n",
      "--------------\n",
      "--------------\n"
     ]
    }
   ],
   "source": [
    "for i in range(10):\n",
    "    print(\"--------------\")"
   ]
  },
  {
   "cell_type": "markdown",
   "metadata": {},
   "source": [
    "### 範例三：印出i=1~i=10"
   ]
  },
  {
   "cell_type": "code",
   "execution_count": 28,
   "metadata": {},
   "outputs": [
    {
     "name": "stdout",
     "output_type": "stream",
     "text": [
      "i = 1\n",
      "i = 2\n",
      "i = 3\n",
      "i = 4\n",
      "i = 5\n",
      "i = 6\n",
      "i = 7\n",
      "i = 8\n",
      "i = 9\n",
      "i = 10\n"
     ]
    }
   ],
   "source": [
    "for i in range(1, 11):\n",
    "    print(\"i = {}\".format(i))"
   ]
  },
  {
   "cell_type": "markdown",
   "metadata": {},
   "source": [
    "### 練習一\n",
    "計次迴圈練習：複利計算\n"
   ]
  },
  {
   "cell_type": "code",
   "execution_count": null,
   "metadata": {},
   "outputs": [],
   "source": [
    "提示：\n",
    "\n",
    "複利的計算公式如下：\n",
    "\n",
    "\n",
    "本利和 = 本金 x (1 + 年利率)期數\n",
    "\n",
    "舉例來說，若本金為 10000 元，年利率為 1.23%，為期 10 年，則本利和為：\n",
    "\n",
    "\n",
    "10000 x (1 + 0.0123)10 = 11300.36\n",
    "\n",
    "輸入年利率時，為了方便起見，1.23% 就讓使用者直接輸入 1.23。由你的程式把 1.23/100，轉換為 0.0123 後，再代入公式運算。\n",
    "\n",
    "如果 n = 5，則 5! = 5 x 4 x 3 x 2 x 1 = 120。"
   ]
  },
  {
   "cell_type": "code",
   "execution_count": 31,
   "metadata": {
    "scrolled": true
   },
   "outputs": [
    {
     "name": "stdout",
     "output_type": "stream",
     "text": [
      "請輸入您的本金：1000\n",
      "請輸入您的年利率：如(1.23 = 1.23%)1.2\n",
      "請輸入期數(年)：5\n",
      "您第1年的本利和為：1012.00\n",
      "您第2年的本利和為：1024.14\n",
      "您第3年的本利和為：1036.43\n",
      "您第4年的本利和為：1048.87\n",
      "您第5年的本利和為：1061.46\n"
     ]
    }
   ],
   "source": [
    "amount = eval(input(\"請輸入您的本金：\"))\n",
    "rate = eval(input(\"請輸入您的年利率：如(1.23 = 1.23%)\"))\n",
    "t = eval(input(\"請輸入期數(年)：\"))\n",
    "\n",
    "for t in range(1, t+1):\n",
    "        deposit = amount * (1 + (rate/100))**t\n",
    "        print(\"您第{}年的本利和為：{:.2f}\".format(t, deposit))\n",
    "        t += 1"
   ]
  },
  {
   "cell_type": "markdown",
   "metadata": {},
   "source": [
    "# 巢狀迴圈 Nested Loop\n",
    "小的重複性結構夾在更大的重複性結構裡面。\n"
   ]
  },
  {
   "cell_type": "markdown",
   "metadata": {},
   "source": [
    "### 範例一"
   ]
  },
  {
   "cell_type": "code",
   "execution_count": 34,
   "metadata": {},
   "outputs": [
    {
     "name": "stdout",
     "output_type": "stream",
     "text": [
      "(1, 1) (1, 2) (1, 3) (1, 4) (1, 5) \n",
      "(2, 1) (2, 2) (2, 3) (2, 4) (2, 5) \n",
      "(3, 1) (3, 2) (3, 3) (3, 4) (3, 5) \n"
     ]
    }
   ],
   "source": [
    "for i in range(1, 4):\n",
    "    for j in range(1, 6):\n",
    "        print(\"({}, {})\".format(i, j), end = \" \") ###end = 空白 印完一個座標後不會換行\n",
    "    print() #內迴圈1~5印完跳出後會換一行，換到外迴圈2跟內迴圈1~5結束後再換一行，外迴圈3跟內迴圈1~5"
   ]
  },
  {
   "cell_type": "markdown",
   "metadata": {},
   "source": [
    "### 練習一：99乘法表"
   ]
  },
  {
   "cell_type": "code",
   "execution_count": 35,
   "metadata": {},
   "outputs": [
    {
     "name": "stdout",
     "output_type": "stream",
     "text": [
      "(1*1 =  1) (1*2 =  2) (1*3 =  3) (1*4 =  4) (1*5 =  5) (1*6 =  6) (1*7 =  7) (1*8 =  8) (1*9 =  9) \n",
      "(2*1 =  2) (2*2 =  4) (2*3 =  6) (2*4 =  8) (2*5 = 10) (2*6 = 12) (2*7 = 14) (2*8 = 16) (2*9 = 18) \n",
      "(3*1 =  3) (3*2 =  6) (3*3 =  9) (3*4 = 12) (3*5 = 15) (3*6 = 18) (3*7 = 21) (3*8 = 24) (3*9 = 27) \n",
      "(4*1 =  4) (4*2 =  8) (4*3 = 12) (4*4 = 16) (4*5 = 20) (4*6 = 24) (4*7 = 28) (4*8 = 32) (4*9 = 36) \n",
      "(5*1 =  5) (5*2 = 10) (5*3 = 15) (5*4 = 20) (5*5 = 25) (5*6 = 30) (5*7 = 35) (5*8 = 40) (5*9 = 45) \n",
      "(6*1 =  6) (6*2 = 12) (6*3 = 18) (6*4 = 24) (6*5 = 30) (6*6 = 36) (6*7 = 42) (6*8 = 48) (6*9 = 54) \n",
      "(7*1 =  7) (7*2 = 14) (7*3 = 21) (7*4 = 28) (7*5 = 35) (7*6 = 42) (7*7 = 49) (7*8 = 56) (7*9 = 63) \n",
      "(8*1 =  8) (8*2 = 16) (8*3 = 24) (8*4 = 32) (8*5 = 40) (8*6 = 48) (8*7 = 56) (8*8 = 64) (8*9 = 72) \n",
      "(9*1 =  9) (9*2 = 18) (9*3 = 27) (9*4 = 36) (9*5 = 45) (9*6 = 54) (9*7 = 63) (9*8 = 72) (9*9 = 81) \n"
     ]
    }
   ],
   "source": [
    "for i in range(1, 10):\n",
    "    for j in range(1, 10):\n",
    "        print(\"({}*{} = {:2d})\".format(i, j, i*j), end=\" \")\n",
    "    print()"
   ]
  },
  {
   "cell_type": "code",
   "execution_count": null,
   "metadata": {},
   "outputs": [],
   "source": []
  }
 ],
 "metadata": {
  "kernelspec": {
   "display_name": "Python 3",
   "language": "python",
   "name": "python3"
  },
  "language_info": {
   "codemirror_mode": {
    "name": "ipython",
    "version": 3
   },
   "file_extension": ".py",
   "mimetype": "text/x-python",
   "name": "python",
   "nbconvert_exporter": "python",
   "pygments_lexer": "ipython3",
   "version": "3.6.8"
  }
 },
 "nbformat": 4,
 "nbformat_minor": 2
}
