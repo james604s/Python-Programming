{
 "cells": [
  {
   "cell_type": "markdown",
   "metadata": {},
   "source": [
    "# 串列List\n",
    "* list與tuple差異在於，list是用[ ]包起來。\n",
    "* list中的元素是可以更動的，tuple無法。\n",
    "* 包含相同的元素時，list佔據的記憶體比tuple多，在於list內容可變更，功能較多，所佔的記憶體比較大。"
   ]
  },
  {
   "cell_type": "code",
   "execution_count": 6,
   "metadata": {},
   "outputs": [
    {
     "name": "stdout",
     "output_type": "stream",
     "text": [
      "tuple:72 list:88\n"
     ]
    }
   ],
   "source": [
    "#記憶體比較\n",
    "import sys\n",
    "tu = (1, 11 ,21)\n",
    "sys.getsizeof(tu)\n",
    "\n",
    "li = [1, 11 ,21]\n",
    "sys.getsizeof(li)\n",
    "\n",
    "print('tuple:' + str(sys.getsizeof(tu)) + ' list:' + str(sys.getsizeof(li)))"
   ]
  },
  {
   "cell_type": "markdown",
   "metadata": {},
   "source": [
    "### 如何建造串列list"
   ]
  },
  {
   "cell_type": "code",
   "execution_count": 8,
   "metadata": {},
   "outputs": [
    {
     "name": "stdout",
     "output_type": "stream",
     "text": [
      "[] [] [1, 11, 21] [False, 8, 'hello'] [[8, 12], 1, 'test'] ['paper', (12, 13), 7]\n"
     ]
    }
   ],
   "source": [
    "#空list\n",
    "lst1 = []\n",
    "lst2 = list()\n",
    "\n",
    "#一般list\n",
    "lst3 = [1, 11, 21]\n",
    "\n",
    "#混合型態list\n",
    "lst4 = [False, 8, 'hello']\n",
    "\n",
    "#巢狀list\n",
    "lst5 = [[8,12], 1, 'test']\n",
    "lst6 = ['paper', (12, 13), 7]\n",
    "\n",
    "print(lst1, lst2, lst3, lst4, lst5, lst6)"
   ]
  },
  {
   "cell_type": "markdown",
   "metadata": {},
   "source": [
    "### list 基本運算"
   ]
  },
  {
   "cell_type": "code",
   "execution_count": 12,
   "metadata": {},
   "outputs": [
    {
     "name": "stdout",
     "output_type": "stream",
     "text": [
      "5 6 7\n",
      "[3, 4, 8, 2]\n",
      "[8, 3, [1, 9]]\n",
      "[8, 3, 1, 9]\n",
      "[2, 3, 1, 2, 3, 1, 2, 3, 1]\n"
     ]
    }
   ],
   "source": [
    "#解包\n",
    "a, b, c = [5, 6, 7]\n",
    "print(a, b ,c)\n",
    "\n",
    "#相接\n",
    "print([3, 4] + [8, 2])\n",
    "\n",
    "#直接接到原串列尾巴\n",
    "lst7 = [8, 3]; lst7.append([1,9]); print(lst7)\n",
    "#拆開後接到串列尾巴\n",
    "lst7 = [8, 3]; lst7.extend([1,9]); print(lst7)\n",
    "\n",
    "#重複運算\n",
    "lst8 = [2, 3, 1] * 3\n",
    "print(lst8)"
   ]
  },
  {
   "cell_type": "code",
   "execution_count": 15,
   "metadata": {},
   "outputs": [
    {
     "name": "stdout",
     "output_type": "stream",
     "text": [
      "True\n",
      "True\n",
      "False\n"
     ]
    }
   ],
   "source": [
    "#串列大小的比較是逐一比較。\n",
    "#[2,1]<[4,5] -> True\n",
    "#2已經小於4，所以後面不會比較。\n",
    "print([2,1] < [4,5])\n",
    "print(3 in [1, 3, 9]) \n",
    "print([1,3] in [1, 3, 9]) #False因為裡面沒有串列[1, 3]"
   ]
  },
  {
   "cell_type": "markdown",
   "metadata": {},
   "source": [
    "### list slicing"
   ]
  },
  {
   "cell_type": "code",
   "execution_count": 23,
   "metadata": {},
   "outputs": [
    {
     "name": "stdout",
     "output_type": "stream",
     "text": [
      "155\n",
      "[155, 12, 9, 835]\n",
      "[835, 1, 23, 4]\n",
      "[155, 12, 9, 835, 1, 23, 4, 6, 77]\n",
      "[8, 3, 155, 12, 9, 835]\n",
      "[3, 12, 835]\n",
      "[3, 12, 835]\n"
     ]
    }
   ],
   "source": [
    "lst = [8, 3, 155, 12, 9, 835, 1, 23 ,4 , 6, 77]\n",
    "print(lst[2])\n",
    "print(lst[2:6])\n",
    "print(lst[-6:-2])\n",
    "print(lst[2:])\n",
    "print(lst[:6])\n",
    "print(lst[1:6:2])\n",
    "\n",
    "#把切店儲存成一個模板並存成變數sc\n",
    "#則能重複套用到list中\n",
    "sc = slice(1,6,2)\n",
    "print(lst[sc]) "
   ]
  },
  {
   "cell_type": "markdown",
   "metadata": {},
   "source": [
    "### list 迭代"
   ]
  },
  {
   "cell_type": "code",
   "execution_count": 24,
   "metadata": {},
   "outputs": [
    {
     "name": "stdout",
     "output_type": "stream",
     "text": [
      "5 1 2 4 10 10 912 "
     ]
    }
   ],
   "source": [
    "for q in [5, 1, 2, 4, 10, 10, 912]:\n",
    "    print(q, end = \" \")"
   ]
  },
  {
   "cell_type": "code",
   "execution_count": 25,
   "metadata": {},
   "outputs": [
    {
     "name": "stdout",
     "output_type": "stream",
     "text": [
      "5\n",
      "1\n",
      "2\n",
      "4\n",
      "10\n",
      "10\n",
      "912\n"
     ]
    }
   ],
   "source": [
    "#iter\n",
    "iterator = iter([5, 1, 2, 4, 10, 10, 912])\n",
    "for q in iterator:\n",
    "    print(q)"
   ]
  },
  {
   "cell_type": "code",
   "execution_count": 26,
   "metadata": {},
   "outputs": [
    {
     "name": "stdout",
     "output_type": "stream",
     "text": [
      "0 5\n",
      "1 1\n",
      "2 2\n",
      "3 4\n",
      "4 10\n",
      "5 10\n",
      "6 912\n"
     ]
    }
   ],
   "source": [
    "iterator = enumerate([5, 1, 2, 4, 10, 10, 912])\n",
    "for i, j in iterator:\n",
    "    print(i, j)"
   ]
  },
  {
   "cell_type": "markdown",
   "metadata": {},
   "source": [
    "### 資料型態轉換"
   ]
  },
  {
   "cell_type": "code",
   "execution_count": 27,
   "metadata": {},
   "outputs": [
    {
     "data": {
      "text/plain": [
       "['a', 'b', 'c', 'd', 'e']"
      ]
     },
     "execution_count": 27,
     "metadata": {},
     "output_type": "execute_result"
    }
   ],
   "source": [
    "#字串轉串列\n",
    "h = 'abcde'\n",
    "lst = list(h)\n",
    "lst"
   ]
  },
  {
   "cell_type": "code",
   "execution_count": 28,
   "metadata": {},
   "outputs": [
    {
     "data": {
      "text/plain": [
       "'abcde'"
      ]
     },
     "execution_count": 28,
     "metadata": {},
     "output_type": "execute_result"
    }
   ],
   "source": [
    "#串列轉字串\n",
    "lst = ['a', 'b', 'c', 'd', 'e']\n",
    "\"\".join(lst)"
   ]
  },
  {
   "cell_type": "code",
   "execution_count": 29,
   "metadata": {},
   "outputs": [
    {
     "data": {
      "text/plain": [
       "[8, 3, 1]"
      ]
     },
     "execution_count": 29,
     "metadata": {},
     "output_type": "execute_result"
    }
   ],
   "source": [
    "#元祖轉串列\n",
    "t = (8, 3, 1)\n",
    "lst = list(t)\n",
    "lst"
   ]
  },
  {
   "cell_type": "code",
   "execution_count": 30,
   "metadata": {},
   "outputs": [
    {
     "name": "stdout",
     "output_type": "stream",
     "text": [
      "(8, 3, 1)\n"
     ]
    }
   ],
   "source": [
    "#串列轉元祖\n",
    "l = [8, 3 ,1]\n",
    "tp = tuple(l)\n",
    "print(tp)"
   ]
  },
  {
   "cell_type": "markdown",
   "metadata": {},
   "source": [
    "### list 常用函數"
   ]
  },
  {
   "cell_type": "code",
   "execution_count": 34,
   "metadata": {},
   "outputs": [
    {
     "name": "stdout",
     "output_type": "stream",
     "text": [
      "6\n",
      "182 1\n",
      "300\n"
     ]
    }
   ],
   "source": [
    "lst = [1, 5, 19, 182, 82, 11]\n",
    "#長度\n",
    "print(len(lst))\n",
    "\n",
    "#最大最小\n",
    "print(max(lst), min(lst))\n",
    "\n",
    "#加總\n",
    "print(sum(lst))"
   ]
  },
  {
   "cell_type": "code",
   "execution_count": 38,
   "metadata": {},
   "outputs": [
    {
     "name": "stdout",
     "output_type": "stream",
     "text": [
      "[11, 82, 182, 19, 5, 1]\n",
      "[1, 5, 11, 19, 82, 182]\n"
     ]
    }
   ],
   "source": [
    "lst = [1, 5, 19, 182, 82, 11]\n",
    "#順序反轉 \n",
    "lst_iter = reversed(lst)\n",
    "print(list(lst_iter)) #reversed傳回來的是迭代器，要用list包。\n",
    "\n",
    "#排序\n",
    "lst_sort = sorted(lst)\n",
    "print(lst_sort)"
   ]
  },
  {
   "cell_type": "code",
   "execution_count": 53,
   "metadata": {},
   "outputs": [
    {
     "name": "stdout",
     "output_type": "stream",
     "text": [
      "[1, 5, 19, 182, 82, 11]\n",
      "0\n",
      "[1, 5, 11, 19, 182, 82, 11]\n",
      "2\n"
     ]
    }
   ],
   "source": [
    "lst = [1, 5, 19, 182, 82, 11]\n",
    "#尋找 \n",
    "print(lst)\n",
    "print(lst.index(1))#找到後傳回索引值\n",
    "\n",
    "#插入\n",
    "lst.insert(2, 11)\n",
    "print(lst)\n",
    "\n",
    "#計數\n",
    "print(lst.count(11))"
   ]
  },
  {
   "cell_type": "markdown",
   "metadata": {},
   "source": [
    "### list 拷貝copy"
   ]
  },
  {
   "cell_type": "code",
   "execution_count": 58,
   "metadata": {},
   "outputs": [
    {
     "name": "stdout",
     "output_type": "stream",
     "text": [
      "[3, 7, 2]\n",
      "[3, 7, 2]\n",
      "[3, 7, 9]\n",
      "[3, 7, 9]\n"
     ]
    }
   ],
   "source": [
    "#拷貝copy\n",
    "#製造兩個相同list，修改且不互相干擾。\n",
    "\n",
    "#修改後會影響到原始list\n",
    "#主要是因為python有同值、同址、省空間的特性\n",
    "list1 = [3, 7, 2]\n",
    "print(list1)\n",
    "\n",
    "list2 = list1\n",
    "print(list2)\n",
    "\n",
    "list2[2] = 9\n",
    "print(list2)\n",
    "print(list1)"
   ]
  },
  {
   "cell_type": "code",
   "execution_count": 60,
   "metadata": {},
   "outputs": [
    {
     "name": "stdout",
     "output_type": "stream",
     "text": [
      "[3, 7, 7] [3, 7, 2]\n"
     ]
    }
   ],
   "source": [
    "list1 = [3, 7, 2]\n",
    "#拷貝方法\n",
    "#1\n",
    "list2 = list1[:]\n",
    "#2\n",
    "list2 = list(list1)\n",
    "#3\n",
    "import copy\n",
    "list2 = copy.copy(list1)\n",
    "list2[2] = 7\n",
    "print(list2, list1)\n",
    "\n"
   ]
  },
  {
   "cell_type": "code",
   "execution_count": 66,
   "metadata": {},
   "outputs": [
    {
     "name": "stdout",
     "output_type": "stream",
     "text": [
      "[3, 4, [1, 2]]\n",
      "[3, 4, [1, 2]]\n",
      "[3, 4, [5, 2]] [3, 4, [5, 2]]\n",
      "[3, 4, [1, 2]]\n",
      "[3, 4, [1, 2]]\n",
      "[3, 4, [1, 2]] [3, 4, [5, 2]]\n"
     ]
    }
   ],
   "source": [
    "#深層拷貝deep copy\n",
    "n_list = [3, 4, [1,2]]\n",
    "print(n_list)\n",
    "\n",
    "import copy\n",
    "n_list2 = copy.copy(n_list)\n",
    "print(n_list2)\n",
    "\n",
    "n_list2[2][0] = 5\n",
    "print(n_list, n_list2)\n",
    "#內部巢狀串列儲存的位置，不是串列本身。\n",
    "#一般的copy只有copy外層\n",
    "\n",
    "\n",
    "#用deepcopy\n",
    "n_list = [3, 4, [1,2]]\n",
    "print(n_list)\n",
    "\n",
    "n_list2 = copy.deepcopy(n_list)\n",
    "print(n_list2)\n",
    "\n",
    "n_list2[2][0] = 5\n",
    "print(n_list, n_list2)"
   ]
  },
  {
   "cell_type": "markdown",
   "metadata": {},
   "source": [
    "### 刪除"
   ]
  },
  {
   "cell_type": "code",
   "execution_count": 69,
   "metadata": {},
   "outputs": [
    {
     "name": "stdout",
     "output_type": "stream",
     "text": [
      "[1, 2, 3, 4, 935, 10]\n",
      "[1, 2, 3, 935, 10]\n",
      "[1, 2, 3, 4, 10]\n",
      "[1, 2, 4, 935]\n"
     ]
    }
   ],
   "source": [
    "#索引值刪除\n",
    "lst = [1, 2, 3 ,4 , 935, 10]\n",
    "print(lst)\n",
    "del lst[3]\n",
    "print(lst)\n",
    "\n",
    "#元素本身刪除\n",
    "lst = [1, 2, 3 ,4 , 935, 10]\n",
    "lst.remove(935)\n",
    "print(lst)\n",
    "\n",
    "#pop函數刪除及回傳\n",
    "lst = [1, 2, 3 ,4 , 935, 10]\n",
    "lst.pop() #預設移除最後一個\n",
    "lst.pop(2)#移除索引值2的元素\n",
    "print(lst)"
   ]
  },
  {
   "cell_type": "markdown",
   "metadata": {},
   "source": [
    "### list comprehension 串列產生式"
   ]
  },
  {
   "cell_type": "code",
   "execution_count": 76,
   "metadata": {},
   "outputs": [
    {
     "name": "stdout",
     "output_type": "stream",
     "text": [
      "[0, 1, 2, 3, 4, 5, 6, 7, 8, 9]\n",
      "[0, 3, 6, 9, 12, 15, 18, 21, 24, 27]\n",
      "[0, 2, 4, 6, 8]\n",
      "[(0, 0), (0, 1), (0, 2), (0, 3), (0, 4), (0, 5), (0, 6), (1, 0), (1, 1), (1, 2), (1, 3), (1, 4), (1, 5), (1, 6), (2, 0), (2, 1), (2, 2), (2, 3), (2, 4), (2, 5), (2, 6), (3, 0), (3, 1), (3, 2), (3, 3), (3, 4), (3, 5), (3, 6), (4, 0), (4, 1), (4, 2), (4, 3), (4, 4), (4, 5), (4, 6)]\n"
     ]
    }
   ],
   "source": [
    "#單純生成\n",
    "print([i for i in range(10)])\n",
    "#帶運算\n",
    "print([i*3 for i in range(10)])\n",
    "#帶條件\n",
    "print([i for i in range(10) if i%2 == 0])\n",
    "#巢狀生成\n",
    "print([(i,j) for i in range(5) for j in range(7)])"
   ]
  },
  {
   "cell_type": "markdown",
   "metadata": {},
   "source": [
    "### 用list產生一副52張的撲克牌"
   ]
  },
  {
   "cell_type": "code",
   "execution_count": 82,
   "metadata": {},
   "outputs": [
    {
     "name": "stdout",
     "output_type": "stream",
     "text": [
      "[('♤', 'A'), ('♤', '2'), ('♤', '3'), ('♤', '4'), ('♤', '5'), ('♤', '6'), ('♤', '7'), ('♤', '8'), ('♤', '9'), ('♤', '10'), ('♤', 'J'), ('♤', 'Q'), ('♤', 'K'), ('♡', 'A'), ('♡', '2'), ('♡', '3'), ('♡', '4'), ('♡', '5'), ('♡', '6'), ('♡', '7'), ('♡', '8'), ('♡', '9'), ('♡', '10'), ('♡', 'J'), ('♡', 'Q'), ('♡', 'K'), ('♢', 'A'), ('♢', '2'), ('♢', '3'), ('♢', '4'), ('♢', '5'), ('♢', '6'), ('♢', '7'), ('♢', '8'), ('♢', '9'), ('♢', '10'), ('♢', 'J'), ('♢', 'Q'), ('♢', 'K'), ('♧', 'A'), ('♧', '2'), ('♧', '3'), ('♧', '4'), ('♧', '5'), ('♧', '6'), ('♧', '7'), ('♧', '8'), ('♧', '9'), ('♧', '10'), ('♧', 'J'), ('♧', 'Q'), ('♧', 'K')]\n"
     ]
    }
   ],
   "source": [
    "#花色\n",
    "suits = (u\"\\u2664\" ,u\"\\u2661\" ,u\"\\u2662\" ,u\"\\u2667\")\n",
    "\n",
    "#點數\n",
    "ranks = ('A','2','3','4','5','6','7','8','9','10','J','Q','K')\n",
    "\n",
    "#串列生成式 \n",
    "poker = [(i,j) for i in suits for j in ranks]\n",
    "print(poker)"
   ]
  },
  {
   "cell_type": "markdown",
   "metadata": {},
   "source": [
    "### 參考資料\n",
    "* 紀俊男-從0起步學python：https://www.yottau.com.tw/course/intro/705#intro"
   ]
  },
  {
   "cell_type": "code",
   "execution_count": null,
   "metadata": {},
   "outputs": [],
   "source": []
  }
 ],
 "metadata": {
  "kernelspec": {
   "display_name": "Python 3",
   "language": "python",
   "name": "python3"
  },
  "language_info": {
   "codemirror_mode": {
    "name": "ipython",
    "version": 3
   },
   "file_extension": ".py",
   "mimetype": "text/x-python",
   "name": "python",
   "nbconvert_exporter": "python",
   "pygments_lexer": "ipython3",
   "version": "3.6.8"
  }
 },
 "nbformat": 4,
 "nbformat_minor": 2
}
